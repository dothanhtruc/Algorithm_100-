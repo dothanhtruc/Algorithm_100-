{
 "cells": [
  {
   "cell_type": "markdown",
   "id": "85037717-db82-4538-8b82-7b85782d9864",
   "metadata": {},
   "source": [
    "## Algorithm"
   ]
  },
  {
   "cell_type": "code",
   "execution_count": 1,
   "id": "398d7e19-acaa-48cb-b715-3e6bd784fff4",
   "metadata": {},
   "outputs": [],
   "source": [
    "def sieve_of_eratosthenes(n):\n",
    "    primes = [True]*(n+1)\n",
    "    p=2\n",
    "    while (p*p <= n):\n",
    "        if primes[p] == True:\n",
    "            for i in range(p*p, n+1, p):\n",
    "                primes[i] = False\n",
    "        p+=1\n",
    "    \n",
    "    primes_ans = [p for p in range(2,n+1) if primes[p] == True]\n",
    "    return primes_ans"
   ]
  },
  {
   "cell_type": "markdown",
   "id": "ac4907ea-652e-4292-a1c0-05b6d258d818",
   "metadata": {},
   "source": [
    "## Run"
   ]
  },
  {
   "cell_type": "code",
   "execution_count": 2,
   "id": "ff8ee139-35e1-49f7-ba32-3064afcd11cf",
   "metadata": {},
   "outputs": [
    {
     "data": {
      "text/plain": [
       "[2, 3, 5, 7, 11, 13, 17, 19, 23, 29]"
      ]
     },
     "execution_count": 2,
     "metadata": {},
     "output_type": "execute_result"
    }
   ],
   "source": [
    "sieve_of_eratosthenes(30)"
   ]
  },
  {
   "cell_type": "code",
   "execution_count": 3,
   "id": "8c85956f-07f4-4a7c-b0e2-54aeb0da4d70",
   "metadata": {},
   "outputs": [
    {
     "data": {
      "text/plain": [
       "[2, 3, 5, 7, 11, 13, 17, 19, 23, 29, 31, 37, 41, 43, 47]"
      ]
     },
     "execution_count": 3,
     "metadata": {},
     "output_type": "execute_result"
    }
   ],
   "source": [
    "sieve_of_eratosthenes(47)"
   ]
  },
  {
   "cell_type": "code",
   "execution_count": null,
   "id": "a1cf0545-a32b-446f-9084-699fb6d1df38",
   "metadata": {},
   "outputs": [],
   "source": []
  }
 ],
 "metadata": {
  "kernelspec": {
   "display_name": "Python 3 (ipykernel)",
   "language": "python",
   "name": "python3"
  },
  "language_info": {
   "codemirror_mode": {
    "name": "ipython",
    "version": 3
   },
   "file_extension": ".py",
   "mimetype": "text/x-python",
   "name": "python",
   "nbconvert_exporter": "python",
   "pygments_lexer": "ipython3",
   "version": "3.10.9"
  }
 },
 "nbformat": 4,
 "nbformat_minor": 5
}
