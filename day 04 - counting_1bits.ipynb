{
 "cells": [
  {
   "cell_type": "markdown",
   "id": "09a2c58a-b0e1-44fa-9753-96618b1a650c",
   "metadata": {},
   "source": [
    "## Algorithm"
   ]
  },
  {
   "cell_type": "code",
   "execution_count": 5,
   "id": "2f316801-dfc9-4bd5-9a16-563e6bd347d1",
   "metadata": {
    "tags": []
   },
   "outputs": [],
   "source": [
    "def counting_1bits(values):\n",
    "    n = 0\n",
    "    while values:\n",
    "        values &= (values - 1)\n",
    "        n+=1\n",
    "    return n"
   ]
  },
  {
   "cell_type": "markdown",
   "id": "ceaf6156-4f12-4496-bf15-daa24ba4fbcd",
   "metadata": {},
   "source": [
    "## Run"
   ]
  },
  {
   "cell_type": "code",
   "execution_count": 6,
   "id": "a0f9f79e-9480-4321-826b-e27e81bd714c",
   "metadata": {},
   "outputs": [
    {
     "data": {
      "text/plain": [
       "3"
      ]
     },
     "execution_count": 6,
     "metadata": {},
     "output_type": "execute_result"
    }
   ],
   "source": [
    "counting_1bits(13)\n",
    "# 13 : 1101\n",
    "\n",
    "# First iteration:\n",
    "# n = 13 (1101)\n",
    "# n - 1 = 12 (1100)\n",
    "# n = n & (n - 1) = 1101 & 1100 = 1100 (12)\n",
    "# Number of 1 bits counted: 1\n",
    "\n",
    "# Second iteration:\n",
    "# n = 12(1100)\n",
    "# n - 1 = 11 (1011)\n",
    "# n = n & (n - 1) = 1100 & 1011 = 1000 (8)\n",
    "# Number of 1 bits counted: 2\n",
    "\n",
    "# Third iteration:\n",
    "# n = 8 (1000)\n",
    "# n - 1 = 7 (0111)\n",
    "# n = n & (n - 1) = 1000 & 0111 = 0000 (0)\n",
    "# Number of 1 bits counted: 3"
   ]
  },
  {
   "cell_type": "code",
   "execution_count": 7,
   "id": "b3df387a-30d7-41f9-b613-df9b0672f7fe",
   "metadata": {},
   "outputs": [
    {
     "data": {
      "text/plain": [
       "2"
      ]
     },
     "execution_count": 7,
     "metadata": {},
     "output_type": "execute_result"
    }
   ],
   "source": [
    "counting_1bits(10)\n",
    "# 10 : 1010"
   ]
  },
  {
   "cell_type": "code",
   "execution_count": 8,
   "id": "895a98a8-ed67-4fff-8fd6-4a9633c430bb",
   "metadata": {},
   "outputs": [
    {
     "data": {
      "text/plain": [
       "8"
      ]
     },
     "execution_count": 8,
     "metadata": {},
     "output_type": "execute_result"
    }
   ],
   "source": [
    "counting_1bits(255)\n",
    "# 255 : 11111111"
   ]
  }
 ],
 "metadata": {
  "kernelspec": {
   "display_name": "Python 3 (ipykernel)",
   "language": "python",
   "name": "python3"
  },
  "language_info": {
   "codemirror_mode": {
    "name": "ipython",
    "version": 3
   },
   "file_extension": ".py",
   "mimetype": "text/x-python",
   "name": "python",
   "nbconvert_exporter": "python",
   "pygments_lexer": "ipython3",
   "version": "3.10.9"
  }
 },
 "nbformat": 4,
 "nbformat_minor": 5
}
