{
 "cells": [
  {
   "cell_type": "markdown",
   "id": "15f03fe9",
   "metadata": {},
   "source": [
    "## Algorithm"
   ]
  },
  {
   "cell_type": "code",
   "execution_count": 1,
   "id": "39567bf9",
   "metadata": {},
   "outputs": [],
   "source": [
    "def permute(values): \n",
    "    n = len(values)\n",
    "    \n",
    "    for i in reversed(range(n-1)):\n",
    "        if values[i] < values[i+1]:\n",
    "            break\n",
    "    else:\n",
    "        values[:] = reversed(values[:])\n",
    "        return values\n",
    "    \n",
    "    for j in reversed(range(i,n)):\n",
    "        if values[i] < values[j]:\n",
    "            values[i], values[j] = values[j], values[i]\n",
    "            values[i+1:] = reversed(values[i+1:])\n",
    "            break\n",
    "    return values"
   ]
  },
  {
   "cell_type": "markdown",
   "id": "90201f84",
   "metadata": {},
   "source": [
    "## Run"
   ]
  },
  {
   "cell_type": "code",
   "execution_count": 2,
   "id": "69a455ec",
   "metadata": {
    "scrolled": false
   },
   "outputs": [
    {
     "name": "stdout",
     "output_type": "stream",
     "text": [
      "[9, 1, 5, 2]\n",
      "[9, 2, 1, 5]\n",
      "[9, 2, 5, 1]\n",
      "[9, 5, 1, 2]\n",
      "[9, 5, 2, 1]\n",
      "[1, 2, 5, 9]\n",
      "[1, 2, 9, 5]\n",
      "[1, 5, 2, 9]\n",
      "[1, 5, 9, 2]\n",
      "[1, 9, 2, 5]\n",
      "[1, 9, 5, 2]\n",
      "[2, 1, 5, 9]\n",
      "[2, 1, 9, 5]\n",
      "[2, 5, 1, 9]\n",
      "[2, 5, 9, 1]\n",
      "[2, 9, 1, 5]\n",
      "[2, 9, 5, 1]\n",
      "[5, 1, 2, 9]\n",
      "[5, 1, 9, 2]\n",
      "[5, 2, 1, 9]\n",
      "[5, 2, 9, 1]\n",
      "[5, 9, 1, 2]\n",
      "[5, 9, 2, 1]\n",
      "[9, 1, 2, 5]\n",
      "[9, 1, 5, 2]\n",
      "[9, 2, 1, 5]\n"
     ]
    }
   ],
   "source": [
    "x = [9, 1, 2, 5]\n",
    "for i in range(26):\n",
    "    print(permute(x))"
   ]
  },
  {
   "cell_type": "code",
   "execution_count": 3,
   "id": "de3f1b5c",
   "metadata": {},
   "outputs": [
    {
     "name": "stdout",
     "output_type": "stream",
     "text": [
      "[9, 2, 1, 3, 5]\n",
      "[9, 2, 1, 5, 3]\n",
      "[9, 2, 3, 1, 5]\n",
      "[9, 2, 3, 5, 1]\n",
      "[9, 2, 5, 1, 3]\n",
      "[9, 2, 5, 3, 1]\n",
      "[9, 3, 1, 2, 5]\n",
      "[9, 3, 1, 5, 2]\n",
      "[9, 3, 2, 1, 5]\n",
      "[9, 3, 2, 5, 1]\n",
      "[9, 3, 5, 1, 2]\n",
      "[9, 3, 5, 2, 1]\n",
      "[9, 5, 1, 2, 3]\n",
      "[9, 5, 1, 3, 2]\n",
      "[9, 5, 2, 1, 3]\n",
      "[9, 5, 2, 3, 1]\n",
      "[9, 5, 3, 1, 2]\n",
      "[9, 5, 3, 2, 1]\n",
      "[1, 2, 3, 5, 9]\n",
      "[1, 2, 3, 9, 5]\n",
      "[1, 2, 5, 3, 9]\n",
      "[1, 2, 5, 9, 3]\n",
      "[1, 2, 9, 3, 5]\n",
      "[1, 2, 9, 5, 3]\n",
      "[1, 3, 2, 5, 9]\n",
      "[1, 3, 2, 9, 5]\n"
     ]
    }
   ],
   "source": [
    "b = [9, 1, 5, 3, 2]\n",
    "for i in range(26):\n",
    "    print(permute(b))\n"
   ]
  },
  {
   "cell_type": "code",
   "execution_count": null,
   "id": "82d72d81",
   "metadata": {},
   "outputs": [],
   "source": []
  }
 ],
 "metadata": {
  "kernelspec": {
   "display_name": "Python 3 (ipykernel)",
   "language": "python",
   "name": "python3"
  },
  "language_info": {
   "codemirror_mode": {
    "name": "ipython",
    "version": 3
   },
   "file_extension": ".py",
   "mimetype": "text/x-python",
   "name": "python",
   "nbconvert_exporter": "python",
   "pygments_lexer": "ipython3",
   "version": "3.10.9"
  }
 },
 "nbformat": 4,
 "nbformat_minor": 5
}
