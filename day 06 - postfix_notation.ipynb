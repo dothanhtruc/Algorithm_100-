{
 "cells": [
  {
   "cell_type": "markdown",
   "id": "b016e0b7-6772-43b5-b631-c65c0aa1c212",
   "metadata": {
    "tags": []
   },
   "source": [
    "## Algorithm"
   ]
  },
  {
   "cell_type": "code",
   "execution_count": 1,
   "id": "30572ad0-1001-4dd9-9ced-1fbee046f6cd",
   "metadata": {},
   "outputs": [],
   "source": [
    "ops = {\n",
    "    '+' : float.__add__,\n",
    "    '-' : float.__sub__,\n",
    "    '*' : float.__mul__,\n",
    "    '/' : float.__truediv__,\n",
    "    '^' : float.__pow__,\n",
    "}\n",
    "\n",
    "def postfix(expression):\n",
    "    stack=[]\n",
    "    for i in expression.split():\n",
    "        if i in ops:\n",
    "            i = ops[i](stack.pop(-2), stack.pop(-1))\n",
    "        else:\n",
    "            i = float(i)\n",
    "        stack.append(i)\n",
    "    return stack.pop()"
   ]
  },
  {
   "cell_type": "markdown",
   "id": "b6dc82fa-d1d4-409e-b023-e38f8575e2c3",
   "metadata": {
    "tags": []
   },
   "source": [
    "## Run"
   ]
  },
  {
   "cell_type": "code",
   "execution_count": 2,
   "id": "52469c6d-4fcf-4688-bd58-ef1b688a9d24",
   "metadata": {},
   "outputs": [
    {
     "data": {
      "text/plain": [
       "8.0"
      ]
     },
     "execution_count": 2,
     "metadata": {},
     "output_type": "execute_result"
    }
   ],
   "source": [
    "postfix('1 2 + 4 3 - + 10 5 / *')"
   ]
  },
  {
   "cell_type": "code",
   "execution_count": 3,
   "id": "02aeef9b-6a3b-4fcb-813d-741165d0609d",
   "metadata": {},
   "outputs": [
    {
     "data": {
      "text/plain": [
       "25.0"
      ]
     },
     "execution_count": 3,
     "metadata": {},
     "output_type": "execute_result"
    }
   ],
   "source": [
    "postfix('1 2 * 6 2 / + 9 7 - ^')"
   ]
  },
  {
   "cell_type": "code",
   "execution_count": 4,
   "id": "5392ffb0-e11d-436f-81e5-81453beff06b",
   "metadata": {},
   "outputs": [
    {
     "data": {
      "text/plain": [
       "15.0"
      ]
     },
     "execution_count": 4,
     "metadata": {},
     "output_type": "execute_result"
    }
   ],
   "source": [
    "postfix('1 2 3 4 5 + + + +')"
   ]
  },
  {
   "cell_type": "code",
   "execution_count": null,
   "id": "28ab1ff9-9cab-48db-a1a7-6383bc7fa2dd",
   "metadata": {},
   "outputs": [],
   "source": []
  }
 ],
 "metadata": {
  "kernelspec": {
   "display_name": "Python 3 (ipykernel)",
   "language": "python",
   "name": "python3"
  },
  "language_info": {
   "codemirror_mode": {
    "name": "ipython",
    "version": 3
   },
   "file_extension": ".py",
   "mimetype": "text/x-python",
   "name": "python",
   "nbconvert_exporter": "python",
   "pygments_lexer": "ipython3",
   "version": "3.10.9"
  }
 },
 "nbformat": 4,
 "nbformat_minor": 5
}
