{
 "cells": [
  {
   "cell_type": "markdown",
   "id": "cdfd1a6c-b73f-4f9e-922b-b794ce7d31f4",
   "metadata": {},
   "source": [
    "<h2>Algorithm</h2>\n"
   ]
  },
  {
   "cell_type": "code",
   "execution_count": 1,
   "id": "5cb665c3-a407-4dff-b6f4-2ddb48394c60",
   "metadata": {},
   "outputs": [],
   "source": [
    "def HanoiTown(n, left, mid, right):\n",
    "    if n == 1:\n",
    "        print(n,'from',left,'=>',right)\n",
    "        return\n",
    "    else:\n",
    "        HanoiTown(n-1, left, right, mid)\n",
    "        print(n,'from', left, '=>', right)\n",
    "        HanoiTown(n-1, mid, left, right)"
   ]
  },
  {
   "cell_type": "markdown",
   "id": "226e872d-e77c-486a-b242-f11738b07ec6",
   "metadata": {
    "tags": []
   },
   "source": [
    "<h2>Run</h2>"
   ]
  },
  {
   "cell_type": "code",
   "execution_count": 2,
   "id": "5a8c2cea-43f2-452e-8356-317110b259f9",
   "metadata": {},
   "outputs": [
    {
     "name": "stdout",
     "output_type": "stream",
     "text": [
      "1 from A => C\n"
     ]
    }
   ],
   "source": [
    "HanoiTown(1, 'A', 'B', 'C')"
   ]
  },
  {
   "cell_type": "code",
   "execution_count": 3,
   "id": "00adf08e-884d-4e27-ad70-217c4802149e",
   "metadata": {},
   "outputs": [
    {
     "name": "stdout",
     "output_type": "stream",
     "text": [
      "1 from A => B\n",
      "2 from A => C\n",
      "1 from B => C\n"
     ]
    }
   ],
   "source": [
    "HanoiTown(2, 'A', 'B', 'C')"
   ]
  },
  {
   "cell_type": "code",
   "execution_count": 4,
   "id": "ccdc7255-8432-469e-9fa8-ae768139c9ca",
   "metadata": {},
   "outputs": [
    {
     "name": "stdout",
     "output_type": "stream",
     "text": [
      "1 from A => C\n",
      "2 from A => B\n",
      "1 from C => B\n",
      "3 from A => C\n",
      "1 from B => A\n",
      "2 from B => C\n",
      "1 from A => C\n"
     ]
    }
   ],
   "source": [
    "HanoiTown(3, 'A', 'B', 'C')"
   ]
  },
  {
   "cell_type": "code",
   "execution_count": 5,
   "id": "e9480db0-7a4b-4806-be70-ff339d6df01d",
   "metadata": {},
   "outputs": [
    {
     "name": "stdout",
     "output_type": "stream",
     "text": [
      "1 from A => B\n",
      "2 from A => C\n",
      "1 from B => C\n",
      "3 from A => B\n",
      "1 from C => A\n",
      "2 from C => B\n",
      "1 from A => B\n",
      "4 from A => C\n",
      "1 from B => C\n",
      "2 from B => A\n",
      "1 from C => A\n",
      "3 from B => C\n",
      "1 from A => B\n",
      "2 from A => C\n",
      "1 from B => C\n"
     ]
    }
   ],
   "source": [
    "HanoiTown(4, 'A', 'B', 'C')"
   ]
  },
  {
   "cell_type": "code",
   "execution_count": null,
   "id": "4f93e81e-d67a-47ef-ab79-5d492b66b942",
   "metadata": {},
   "outputs": [],
   "source": []
  }
 ],
 "metadata": {
  "kernelspec": {
   "display_name": "Python 3 (ipykernel)",
   "language": "python",
   "name": "python3"
  },
  "language_info": {
   "codemirror_mode": {
    "name": "ipython",
    "version": 3
   },
   "file_extension": ".py",
   "mimetype": "text/x-python",
   "name": "python",
   "nbconvert_exporter": "python",
   "pygments_lexer": "ipython3",
   "version": "3.10.9"
  }
 },
 "nbformat": 4,
 "nbformat_minor": 5
}
